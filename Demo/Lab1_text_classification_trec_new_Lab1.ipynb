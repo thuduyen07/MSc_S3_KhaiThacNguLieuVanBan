{
  "cells": [
    {
      "cell_type": "markdown",
      "metadata": {
        "id": "PZci8E--Ae5A"
      },
      "source": [
        "# Bước 1: Download dữ liệu"
      ]
    },
    {
      "cell_type": "code",
      "execution_count": null,
      "metadata": {
        "tags": [],
        "id": "YStHI9IwAe5E",
        "outputId": "24f25241-3d6b-4664-fdcb-799b579e4aac"
      },
      "outputs": [
        {
          "name": "stdout",
          "output_type": "stream",
          "text": [
            "  % Total    % Received % Xferd  Average Speed   Time    Time     Time  Current\n",
            "                                 Dload  Upload   Total   Spent    Left  Speed\n",
            "100 23354  100 23354    0     0   4480      0  0:00:14  0:00:04  0:00:10  1618  0  0:00:05  0:00:05 --:--:--  5262\n",
            "  % Total    % Received % Xferd  Average Speed   Time    Time     Time  Current\n",
            "                                 Dload  Upload   Total   Spent    Left  Speed\n",
            "100  327k  100  327k    0     0  36567      0  0:00:09  0:00:09 --:--:-- 26389\n"
          ]
        }
      ],
      "source": [
        "! curl -O https://cogcomp.seas.upenn.edu/Data/QA/QC/TREC_10.label\n",
        "! curl -O https://cogcomp.seas.upenn.edu/Data/QA/QC/train_5500.label"
      ]
    },
    {
      "cell_type": "code",
      "execution_count": null,
      "metadata": {
        "tags": [],
        "id": "WW1-ajO7Ae5F",
        "outputId": "37cdde47-9857-4a45-b99e-7bd5d8882c29"
      },
      "outputs": [
        {
          "name": "stdout",
          "output_type": "stream",
          "text": [
            "     500 TREC_10.label\n",
            "    5452 train_5500.label\n",
            "DESC:manner How did serfdom develop in and then leave Russia ?\n",
            "ENTY:cremat What films featured the character Popeye Doyle ?\n",
            "DESC:manner How can I find a list of celebrities ' real names ?\n",
            "ENTY:animal What fowl grabs the spotlight after the Chinese Year of the Monkey ?\n",
            "ABBR:exp What is the full form of .com ?\n",
            "HUM:ind What contemptible scoundrel stole the cork from my lunch ?\n",
            "HUM:gr What team did baseball 's St. Louis Browns become ?\n",
            "HUM:title What is the oldest profession ?\n",
            "DESC:def What are liver enzymes ?\n",
            "HUM:ind Name the scar-faced bounty hunter of The Old West .\n"
          ]
        }
      ],
      "source": [
        "! wc -l TREC_10.label\n",
        "# ! head -10 TREC_10.label\n",
        "\n",
        "\n",
        "! wc -l train_5500.label\n",
        "! head -10 train_5500.label\n",
        "# ! cp train_5500.label  train_5500.txt"
      ]
    },
    {
      "cell_type": "markdown",
      "metadata": {
        "id": "WXidtJ7xAe5F"
      },
      "source": [
        "# Bước 2: Đọc dữ liệu"
      ]
    },
    {
      "cell_type": "code",
      "execution_count": null,
      "metadata": {
        "tags": [],
        "id": "aK0C8RMGAe5F"
      },
      "outputs": [],
      "source": [
        "import codecs\n",
        "def _generate_examples(filepath):\n",
        "    examples = []\n",
        "    with codecs.open(filepath, \"rb\") as f:\n",
        "        for id_, row in enumerate(f):\n",
        "            # One non-ASCII byte: sisterBADBYTEcity. We replace it with a space\n",
        "            label, _, text = row.replace(b\"\\xf0\",\n",
        "                                         b\" \").strip().decode().partition(\" \")\n",
        "            coarse_label, _, fine_label = label.partition(\":\")\n",
        "            examples.append((id_, {\n",
        "                \"label-coarse\": coarse_label,\n",
        "                \"label-fine\": fine_label,\n",
        "                \"text\": text,\n",
        "            }))\n",
        "    return examples"
      ]
    },
    {
      "cell_type": "code",
      "execution_count": null,
      "metadata": {
        "tags": [],
        "id": "5bHpApKnAe5F"
      },
      "outputs": [],
      "source": [
        "train = _generate_examples(\"train_5500.label\")\n",
        "test = _generate_examples(\"TREC_10.label\")"
      ]
    },
    {
      "cell_type": "code",
      "execution_count": null,
      "metadata": {
        "tags": [],
        "id": "uXTibSZqAe5G",
        "outputId": "e7d8725b-a0ed-49a7-a353-45b993a463c0"
      },
      "outputs": [
        {
          "name": "stdout",
          "output_type": "stream",
          "text": [
            "5452\n",
            "(0, {'label-coarse': 'DESC', 'label-fine': 'manner', 'text': 'How did serfdom develop in and then leave Russia ?'})\n"
          ]
        }
      ],
      "source": [
        "print(len(train))\n",
        "print(train[0])"
      ]
    },
    {
      "cell_type": "markdown",
      "metadata": {
        "id": "AxN99ojgAe5G"
      },
      "source": [
        "# Bước 3: Chuẩn bị dữ liệu, chuyển sang định dạng vector để huấn luyện"
      ]
    },
    {
      "cell_type": "code",
      "execution_count": null,
      "metadata": {
        "tags": [],
        "id": "Sw8J7C10Ae5G",
        "outputId": "e33f550c-b957-4581-9930-1501e3eeffba"
      },
      "outputs": [
        {
          "name": "stdout",
          "output_type": "stream",
          "text": [
            "5452\n",
            "------\n",
            "labels: ['DESC', 'NUM', 'HUM', 'LOC', 'ENTY', 'ABBR']\n",
            "------\n",
            "{'DESC': 0, 'NUM': 1, 'HUM': 2, 'LOC': 3, 'ENTY': 4, 'ABBR': 5}\n",
            "------\n",
            "{0: 'DESC', 1: 'NUM', 2: 'HUM', 3: 'LOC', 4: 'ENTY', 5: 'ABBR'}\n"
          ]
        }
      ],
      "source": [
        "# lấy danh sách các nhãn trong dữ liệu huấn luyện\n",
        "labels = [x['label-coarse'] for _, x in train]\n",
        "print(len(labels))\n",
        "# print(labels[:100])\n",
        "set_labels = list(set(labels))\n",
        "print(\"------\")\n",
        "print(\"labels:\", set_labels)\n",
        "\n",
        "label2id = {x: i for i, x in enumerate(set_labels)}\n",
        "print(\"------\")\n",
        "print(label2id)\n",
        "id2label = {i: x for i, x in enumerate(set_labels)}\n",
        "print(\"------\")\n",
        "print(id2label)"
      ]
    },
    {
      "cell_type": "code",
      "execution_count": null,
      "metadata": {
        "tags": [],
        "id": "FzIOd3b2Ae5G",
        "outputId": "6d7a55f0-bc05-4225-f86c-00a29a3efefa"
      },
      "outputs": [
        {
          "data": {
            "text/plain": [
              "0"
            ]
          },
          "execution_count": 136,
          "metadata": {},
          "output_type": "execute_result"
        }
      ],
      "source": [
        "\n",
        "label2id['DESC']\n"
      ]
    },
    {
      "cell_type": "code",
      "execution_count": null,
      "metadata": {
        "tags": [],
        "id": "Mdb_sNUGAe5G",
        "outputId": "76bed79d-d06c-4168-d5f0-8fffa5d85b40"
      },
      "outputs": [
        {
          "data": {
            "text/plain": [
              "'DESC'"
            ]
          },
          "execution_count": 137,
          "metadata": {},
          "output_type": "execute_result"
        }
      ],
      "source": [
        "id2label[0]"
      ]
    },
    {
      "cell_type": "code",
      "execution_count": null,
      "metadata": {
        "tags": [],
        "id": "sgfbBBjxAe5H",
        "outputId": "04f8cf9e-4fc6-4d0f-cc67-1c408dfd8470"
      },
      "outputs": [
        {
          "name": "stdout",
          "output_type": "stream",
          "text": [
            "#training size 5452\n",
            "#testing size 500\n",
            "(0, {'label-coarse': 'DESC', 'label-fine': 'manner', 'text': 'How did serfdom develop in and then leave Russia ?'})\n",
            "(1, {'label-coarse': 'ENTY', 'label-fine': 'cremat', 'text': 'What films featured the character Popeye Doyle ?'})\n",
            "(0, {'label-coarse': 'NUM', 'label-fine': 'dist', 'text': 'How far is it from Denver to Aspen ?'})\n",
            "(1, {'label-coarse': 'LOC', 'label-fine': 'city', 'text': 'What county is Modesto , California in ?'})\n"
          ]
        }
      ],
      "source": [
        "print(\"#training size\", len(train))\n",
        "print(\"#testing size\", len(test))\n",
        "print(train[0])\n",
        "print(train[1])\n",
        "print(test[0])\n",
        "print(test[1])\n",
        "\n",
        "train_target = [label2id[x['label-coarse']] for _, x in train]\n",
        "train_data = [x['text'] for _, x in train]\n"
      ]
    },
    {
      "cell_type": "code",
      "execution_count": null,
      "metadata": {
        "tags": [],
        "id": "gzjW8m3xAe5H",
        "outputId": "9977c135-17ce-40ab-fc24-4985ff5d5563"
      },
      "outputs": [
        {
          "name": "stdout",
          "output_type": "stream",
          "text": [
            "How did serfdom develop in and then leave Russia ? 0\n",
            "What films featured the character Popeye Doyle ? 4\n"
          ]
        }
      ],
      "source": [
        "print(train_data[0], train_target[0])\n",
        "print(train_data[1], train_target[1])"
      ]
    },
    {
      "cell_type": "code",
      "execution_count": null,
      "metadata": {
        "tags": [],
        "id": "0aqLdRULAe5H",
        "outputId": "2a0205fb-53f8-4fbe-b178-2c065128b2eb"
      },
      "outputs": [
        {
          "name": "stdout",
          "output_type": "stream",
          "text": [
            "(5452, 61819)\n",
            "[[0 0 0 ... 0 0 0]\n",
            " [0 0 0 ... 0 0 0]\n",
            " [0 0 0 ... 0 0 0]\n",
            " ...\n",
            " [0 0 0 ... 0 0 0]\n",
            " [0 0 0 ... 0 0 0]\n",
            " [0 0 0 ... 0 0 0]]\n",
            "['000' '000 check' '000 for' ... 'zoonose diseases from' 'zorro'\n",
            " 'zorro ride']\n",
            "item đầu tiên: [[0 0 0 ... 0 0 0]]\n"
          ]
        }
      ],
      "source": [
        "from sklearn.feature_extraction.text import CountVectorizer\n",
        "count_vect = CountVectorizer(ngram_range=(1,3))\n",
        "X_train_counts = count_vect.fit_transform(train_data)\n",
        "print(X_train_counts.shape)\n",
        "print(X_train_counts.toarray())\n",
        "print(count_vect.get_feature_names_out())\n",
        "from sklearn.feature_extraction.text import TfidfTransformer\n",
        "\n",
        "# method 1: no-transofrm\n",
        "X_train = X_train_counts\n",
        "\n",
        "# method 2: use tf\n",
        "# tf_transformer = TfidfTransformer(use_idf=False).fit(X_train_counts)\n",
        "# X_train = tf_transformer.transform(X_train_counts)\n",
        "\n",
        "# method 3: use tf-idf\n",
        "# tf_transformer = TfidfTransformer(use_idf=True).fit(X_train_counts)\n",
        "# X_train = tf_transformer.transform(X_train_counts)\n",
        "# print(X_train.shape)\n",
        "# print(X_train.toarray())\n",
        "\n",
        "print(\"item đầu tiên:\", X_train[0].toarray())"
      ]
    },
    {
      "cell_type": "code",
      "execution_count": null,
      "metadata": {
        "tags": [],
        "id": "2YCVPFZ9Ae5H",
        "outputId": "d2497a3d-16b7-4cb8-9d44-5d6c9302976a"
      },
      "outputs": [
        {
          "name": "stdout",
          "output_type": "stream",
          "text": [
            "5452\n",
            "[0, 4, 0, 4, 5, 2, 2, 2, 0, 2, 1, 0, 2, 2, 4, 3, 0, 1, 0, 0, 1, 4, 2, 0, 0, 4, 2, 3, 4, 3, 5, 4, 1, 2, 1, 0, 1, 4, 3, 4, 0, 4, 1, 1, 0, 2, 4, 2, 0, 4, 3, 0, 2, 0, 2, 0, 4, 4, 3, 0, 3, 0, 3, 0, 2, 3, 0, 0, 3, 0, 3, 2, 4, 0, 2, 0, 2, 4, 0, 3, 4, 1, 0, 3, 4, 1, 3, 4, 2, 1, 1, 0, 0, 4, 0, 0, 2, 0, 1, 3, 2, 0, 0, 4, 2, 2, 0, 3, 4, 3, 0, 3, 3, 4, 4, 4, 3, 1, 4, 0, 3, 4, 0, 1, 0, 0, 0, 2, 2, 1, 4, 0, 4, 4, 4, 1, 2, 0, 0, 1, 3, 4, 3, 4, 0, 1, 0, 5, 2, 2, 2, 2, 1, 2, 4, 2, 3, 4, 4, 0, 4, 1, 4, 0, 3, 2, 2, 3, 1, 1, 3, 1, 2, 2, 4, 2, 0, 0, 1, 3, 3, 4, 2, 2, 0, 0, 0, 1, 0, 3, 4, 3, 2, 3, 4, 2, 2, 1, 3, 0, 2, 0, 0, 1, 2, 2, 1, 4, 0, 2, 4, 4, 3, 0, 0, 1, 0, 1, 4, 2, 0, 5, 4, 0, 0, 4, 1, 0, 1, 1, 3, 0, 2, 0, 2, 1, 3, 3, 4, 2, 4, 4, 1, 0, 3, 1, 2, 0, 0, 4, 1, 2, 0, 2, 1, 2, 4, 0, 4, 3, 1, 5, 1, 1, 0, 3, 0, 0, 4, 2, 4, 4, 4, 2, 2, 2, 0, 1, 4, 1, 1, 4, 1, 1, 4, 3, 2, 2, 3, 0, 0, 3, 4, 0, 5, 3, 4, 4, 3, 4, 4, 2, 4, 2, 5, 4, 2, 5, 5, 4, 3, 2, 0, 1, 1, 2, 3, 4, 3, 2, 0, 1, 3, 4, 0, 1, 2, 3, 2, 0, 0, 1, 1, 1, 0, 4, 2, 2, 4, 2, 4, 3, 3, 2, 2, 4, 2, 1, 4, 0, 2, 1, 4, 2, 3, 2, 1, 1, 0, 2, 2, 0, 3, 0, 4, 2, 0, 4, 0, 1, 2, 4, 2, 3, 4, 2, 3, 4, 2, 1, 2, 5, 3, 2, 0, 3, 1, 4, 4, 0, 2, 2, 4, 3, 4, 1, 0, 4, 0, 1, 4, 3, 1, 4, 4, 0, 0, 4, 1, 4, 4, 0, 3, 3, 3, 1, 2, 4, 3, 2, 0, 3, 0, 3, 0, 1, 2, 4, 0, 4, 1, 2, 2, 0, 2, 3, 3, 3, 4, 0, 4, 1, 1, 5, 0, 4, 4, 0, 1, 0, 2, 2, 3, 0, 2, 3, 4, 4, 3, 0, 2, 4, 3, 2, 1, 3, 3, 4, 2, 4, 3, 2, 4, 2, 0, 4, 2, 1, 4, 4, 0, 0, 1, 2, 4, 4, 2, 2, 3, 2, 4, 2, 3, 1, 2, 4, 0, 0, 2, 2, 1, 2, 3, 2, 2, 4, 4, 2, 3, 4, 4, 1, 4, 0, 3, 0, 3, 1, 5, 4, 1, 0, 3, 4, 2, 2, 4, 3, 0, 1, 1, 3, 1, 2, 1, 4, 1, 3, 0, 0, 4, 2, 0, 4, 4, 1, 3, 3, 1, 4, 1, 4, 0, 0, 0, 3, 2, 0, 4, 3, 3, 3, 4, 1, 4, 4, 0, 3, 4, 3, 2, 3, 4, 4, 0, 2, 3, 2, 4, 4, 3, 2, 0, 2, 4, 3, 4, 1, 4, 5, 1, 4, 3, 4, 2, 4, 2, 1, 4, 3, 2, 4, 4, 0, 1, 4, 4, 0, 1, 2, 2, 2, 0, 4, 4, 0, 1, 4, 2, 0, 2, 0, 0, 3, 3, 4, 0, 3, 1, 0, 1, 4, 0, 2, 4, 0, 4, 2, 4, 1, 0, 4, 0, 3, 2, 2, 4, 2, 4, 0, 4, 1, 4, 0, 2, 1, 3, 0, 0, 2, 3, 4, 1, 4, 2, 1, 2, 2, 5, 1, 3, 3, 2, 1, 3, 3, 0, 0, 2, 4, 0, 2, 0, 4, 4, 3, 3, 4, 4, 2, 2, 3, 0, 0, 4, 2, 4, 0, 1, 4, 1, 2, 2, 3, 2, 4, 1, 2, 0, 1, 3, 4, 4, 1, 4, 4, 4, 0, 4, 2, 1, 1, 1, 3, 3, 2, 0, 1, 2, 3, 2, 1, 0, 2, 3, 1, 0, 2, 0, 4, 4, 1, 2, 1, 4, 4, 1, 0, 1, 0, 0, 3, 2, 4, 2, 1, 0, 3, 1, 3, 4, 0, 0, 0, 4, 0, 3, 0, 2, 4, 0, 2, 2, 2, 4, 4, 0, 0, 4, 0, 3, 1, 4, 1, 4, 2, 1, 1, 4, 2, 0, 0, 2, 0, 2, 4, 2, 1, 4, 0, 2, 3, 2, 0, 2, 2, 2, 4, 2, 0, 2, 4, 0, 1, 0, 4, 3, 4, 0, 4, 1, 0, 0, 2, 4, 3, 4, 1, 5, 2, 2, 2, 4, 4, 4, 4, 1, 4, 0, 1, 2, 4, 0, 4, 0, 0, 2, 4, 5, 3, 2, 4, 2, 2, 5, 0, 2, 0, 1, 1, 2, 2, 1, 3, 1, 0, 2, 2, 3, 3, 4, 3, 3, 4, 3, 2, 2, 3, 0, 2, 3, 2, 2, 4, 0, 4, 3, 4, 2, 2, 2, 0, 4, 1, 4, 1, 1, 2, 4, 1, 2, 3, 4, 2, 1, 1, 1, 3, 0, 2, 1, 4, 3, 0, 3, 3, 4, 1, 3, 4, 0, 2, 0, 4, 0, 2, 4, 4, 3, 2, 4, 3, 0, 0, 3, 4, 3, 4, 2, 0, 2, 4, 3, 3, 2, 0, 4, 0, 4, 0, 2, 1, 3, 3, 2, 4, 0, 2, 1, 0, 1, 4, 3, 0, 1, 4, 1, 4, 4, 4, 4, 3, 0, 2, 2, 2, 1, 4, 2, 1, 5, 0, 3, 0, 4, 1, 2, 4, 2, 0, 3, 4, 4, 4, 4, 0, 3, 0, 2, 2, 2, 1, 4, 4, 2, 2, 4, 0, 0, 1, 1, 0, 4, 2, 0, 1, 1, 4, 2, 0, 3, 2, 2, 4, 2, 4, 3, 4, 0, 4, 4, 0, 3, 4, 1, 3, 0, 0, 2, 1, 1, 0, 4, 1, 4, 4, 1, 4, 3, 0, 2, 4, 1, 2, 0, 4, 2, 2, 4, 1, 0, 4, 0, 1, 0, 1, 1, 4, 0, 2, 0, 1, 4, 1, 0, 3, 0, 4, 4, 1, 3, 0, 1, 4, 3, 2, 1, 0, 4, 4, 4, 2, 2, 4, 2, 3, 0, 4, 3, 2, 0, 2, 1, 2, 4, 2, 4, 1, 0, 2, 3, 1, 2, 0, 0, 1, 3, 0, 4, 0, 1, 2, 2, 3, 3, 0, 2, 1, 2, 4, 2, 0, 2, 4, 4, 0, 3, 0, 4, 3, 1, 4, 0, 0, 0, 2, 1, 3, 4, 4, 4, 3, 3, 2, 4, 0, 0, 1, 4, 1, 0, 3, 0, 0, 3, 3, 0, 1, 1, 1, 2, 4, 3, 2, 2, 0, 3, 4, 1, 3, 0, 4, 0, 4, 1, 0, 4, 0, 0, 4, 3, 0, 3, 0, 4, 2, 4, 5, 3, 4, 3, 4, 1, 2, 1, 2, 2, 2, 0, 1, 1, 2, 3, 4, 1, 2, 0, 4, 2, 2, 3, 1, 4, 4, 0, 0, 2, 2, 4, 3, 1, 4, 1, 2, 2, 1, 0, 2, 1, 2, 0, 2, 3, 0, 0, 4, 4, 4, 3, 3, 0, 0, 2, 4, 4, 2, 2, 5, 4, 3, 2, 0, 2, 3, 3, 1, 1, 2, 2, 1, 1, 3, 3, 3, 1, 1, 4, 0, 0, 5, 2, 3, 0, 0, 4, 0, 4, 4, 2, 0, 2, 0, 3, 3, 0, 0, 2, 0, 1, 3, 3, 2, 4, 4, 2, 4, 1, 1, 2, 4, 3, 1, 4, 0, 0, 0, 4, 2, 4, 4, 4, 4, 2, 4, 0, 1, 1, 2, 2, 3, 4, 1, 0, 3, 2, 1, 2, 3, 0, 3, 0, 0, 0, 4, 3, 3, 4, 3, 0, 5, 4, 2, 1, 1, 2, 4, 4, 1, 3, 3, 2, 4, 0, 3, 0, 2, 4, 2, 4, 2, 3, 2, 4, 4, 4, 0, 4, 2, 1, 2, 2, 2, 3, 3, 0, 2, 0, 4, 3, 4, 1, 0, 0, 2, 1, 2, 5, 4, 0, 2, 3, 4, 2, 4, 1, 2, 1, 2, 3, 4, 0, 3, 1, 4, 2, 1, 3, 1, 2, 3, 3, 3, 4, 4, 1, 4, 4, 0, 3, 3, 4, 3, 1, 4, 3, 3, 3, 3, 2, 4, 2, 0, 2, 4, 2, 4, 2, 0, 4, 3, 1, 0, 2, 3, 5, 0, 0, 2, 2, 0, 2, 1, 2, 3, 4, 1, 0, 2, 2, 2, 2, 0, 2, 0, 3, 3, 2, 4, 2, 4, 2, 2, 2, 1, 3, 2, 4, 0, 0, 4, 3, 3, 1, 4, 1, 4, 2, 1, 3, 1, 4, 4, 0, 1, 4, 3, 4, 4, 4, 4, 3, 1, 2, 2, 4, 0, 0, 4, 2, 4, 2, 0, 3, 4, 1, 1, 2, 2, 0, 3, 3, 3, 2, 2, 4, 1, 3, 3, 0, 4, 1, 1, 2, 0, 0, 2, 2, 4, 1, 1, 4, 0, 3, 2, 2, 2, 2, 4, 4, 3, 1, 1, 2, 1, 1, 2, 3, 2, 0, 2, 2, 0, 2, 0, 4, 4, 4, 1, 0, 0, 1, 4, 4, 1, 4, 4, 0, 2, 4, 0, 2, 4, 2, 1, 4, 0, 0, 3, 0, 0, 4, 2, 4, 4, 3, 0, 0, 4, 4, 2, 2, 0, 4, 2, 0, 0, 2, 1, 0, 1, 2, 4, 1, 1, 3, 0, 4, 4, 4, 4, 3, 1, 4, 2, 2, 2, 0, 2, 0, 4, 4, 0, 0, 2, 2, 2, 4, 0, 2, 2, 1, 3, 1, 4, 0, 0, 1, 2, 1, 1, 5, 2, 4, 2, 0, 3, 2, 0, 4, 4, 0, 2, 4, 3, 3, 3, 1, 0, 3, 1, 2, 4, 2, 0, 4, 1, 1, 3, 1, 3, 3, 0, 4, 3, 0, 2, 4, 2, 2, 2, 4, 0, 3, 1, 4, 1, 1, 0, 3, 4, 1, 4, 0, 2, 0, 2, 5, 0, 4, 4, 1, 4, 1, 3, 2, 2, 4, 0, 1, 1, 2, 3, 0, 2, 4, 3, 2, 3, 1, 3, 2, 4, 5, 0, 1, 4, 1, 2, 4, 2, 4, 2, 0, 4, 2, 4, 1, 0, 0, 4, 3, 0, 3, 1, 2, 0, 2, 1, 1, 2, 1, 1, 1, 0, 0, 1, 4, 1, 4, 3, 4, 2, 2, 2, 0, 4, 4, 2, 3, 3, 3, 4, 2, 3, 4, 2, 2, 2, 1, 2, 2, 3, 2, 1, 3, 2, 4, 2, 4, 4, 1, 1, 0, 3, 0, 0, 3, 0, 4, 0, 1, 2, 1, 4, 2, 1, 2, 3, 3, 1, 2, 4, 2, 2, 4, 3, 3, 1, 0, 4, 3, 1, 4, 3, 3, 2, 2, 1, 0, 4, 3, 0, 0, 4, 0, 1, 2, 4, 4, 1, 0, 2, 2, 0, 4, 1, 3, 3, 3, 3, 4, 2, 3, 4, 0, 2, 4, 2, 3, 1, 0, 1, 4, 0, 4, 5, 2, 2, 4, 3, 0, 4, 0, 4, 1, 2, 4, 4, 3, 3, 0, 2, 0, 0, 0, 4, 0, 4, 4, 2, 2, 0, 1, 0, 2, 3, 0, 0, 2, 3, 0, 0, 0, 2, 2, 0, 2, 4, 1, 4, 0, 0, 3, 4, 3, 2, 3, 4, 4, 0, 4, 4, 4, 0, 1, 2, 1, 0, 4, 0, 4, 3, 3, 0, 0, 0, 0, 2, 0, 3, 1, 0, 4, 1, 0, 4, 4, 2, 0, 0, 4, 3, 0, 1, 4, 4, 4, 4, 3, 1, 4, 2, 4, 0, 5, 4, 1, 5, 0, 4, 3, 4, 1, 2, 4, 0, 1, 4, 3, 0, 0, 0, 0, 1, 0, 4, 1, 4, 3, 4, 2, 4, 3, 0, 2, 1, 3, 4, 4, 1, 2, 0, 4, 4, 4, 4, 1, 0, 1, 0, 2, 3, 1, 4, 3, 0, 4, 4, 4, 0, 2, 4, 2, 2, 1, 3, 2, 4, 1, 3, 2, 1, 3, 1, 0, 0, 2, 2, 4, 1, 4, 3, 2, 0, 2, 4, 0, 5, 4, 4, 0, 2, 0, 0, 2, 3, 2, 2, 2, 1, 1, 1, 1, 4, 0, 5, 2, 2, 0, 0, 4, 1, 4, 2, 1, 2, 0, 3, 4, 4, 1, 4, 4, 3, 0, 0, 0, 2, 3, 0, 0, 4, 3, 0, 0, 2, 0, 0, 2, 2, 2, 1, 4, 0, 0, 2, 0, 0, 1, 4, 0, 4, 0, 4, 3, 4, 2, 5, 4, 2, 3, 1, 5, 3, 4, 0, 2, 0, 3, 0, 4, 4, 0, 1, 0, 3, 0, 1, 4, 0, 3, 4, 2, 0, 0, 3, 0, 3, 1, 3, 4, 2, 4, 0, 2, 2, 1, 2, 3, 3, 4, 0, 0, 1, 1, 0, 4, 2, 2, 4, 1, 3, 4, 3, 4, 4, 2, 2, 4, 0, 0, 2, 3, 2, 3, 2, 3, 3, 1, 1, 4, 1, 2, 4, 2, 0, 3, 3, 4, 0, 2, 2, 1, 0, 2, 1, 3, 3, 1, 0, 3, 0, 1, 2, 3, 0, 0, 3, 0, 0, 1, 4, 4, 3, 2, 0, 2, 1, 3, 2, 2, 0, 5, 3, 0, 4, 0, 2, 0, 1, 3, 4, 2, 1, 3, 3, 4, 2, 0, 0, 3, 3, 0, 4, 4, 4, 3, 4, 4, 2, 4, 0, 3, 0, 1, 0, 1, 0, 4, 1, 0, 4, 4, 1, 3, 4, 0, 1, 3, 1, 4, 1, 1, 2, 1, 2, 4, 2, 4, 0, 2, 1, 4, 0, 3, 1, 4, 2, 4, 3, 0, 2, 1, 1, 2, 3, 2, 3, 0, 4, 2, 3, 1, 4, 0, 4, 4, 3, 3, 2, 3, 0, 1, 4, 0, 4, 0, 1, 4, 2, 1, 1, 0, 1, 2, 1, 5, 0, 2, 1, 2, 1, 2, 4, 1, 0, 2, 0, 4, 3, 4, 4, 3, 0, 4, 1, 4, 3, 3, 5, 0, 2, 0, 2, 2, 2, 2, 2, 3, 2, 4, 2, 4, 0, 0, 2, 2, 0, 3, 2, 2, 2, 1, 3, 0, 3, 4, 1, 3, 2, 1, 4, 0, 2, 0, 1, 0, 4, 1, 3, 3, 4, 2, 1, 0, 4, 3, 3, 0, 2, 0, 0, 5, 1, 4, 0, 2, 1, 0, 2, 2, 4, 4, 2, 3, 0, 0, 4, 0, 4, 1, 1, 1, 4, 4, 3, 1, 2, 2, 4, 4, 4, 0, 1, 0, 0, 4, 3, 2, 2, 4, 4, 3, 0, 0, 4, 2, 0, 2, 2, 2, 4, 2, 0, 2, 3, 3, 2, 2, 0, 1, 3, 2, 4, 2, 2, 3, 0, 4, 2, 5, 4, 0, 0, 1, 2, 0, 0, 0, 0, 2, 0, 0, 0, 0, 0, 2, 3, 0, 3, 1, 0, 1, 2, 2, 2, 4, 3, 0, 0, 1, 4, 1, 5, 3, 4, 0, 0, 4, 4, 1, 2, 0, 4, 3, 0, 0, 0, 4, 0, 1, 4, 0, 3, 3, 1, 0, 4, 3, 0, 4, 4, 2, 2, 0, 3, 0, 2, 1, 2, 0, 3, 0, 0, 4, 1, 1, 2, 3, 4, 3, 4, 0, 4, 1, 1, 4, 1, 4, 4, 4, 1, 5, 0, 1, 4, 2, 3, 4, 4, 3, 4, 4, 0, 2, 0, 4, 1, 2, 4, 0, 2, 4, 4, 4, 4, 4, 2, 3, 1, 1, 1, 0, 3, 0, 3, 4, 3, 4, 3, 1, 0, 2, 1, 3, 2, 0, 2, 2, 2, 4, 2, 1, 2, 0, 4, 2, 4, 1, 5, 3, 3, 4, 1, 0, 2, 1, 0, 4, 4, 0, 0, 1, 4, 1, 1, 0, 4, 0, 4, 2, 4, 3, 2, 4, 1, 1, 4, 2, 1, 4, 3, 0, 0, 4, 1, 0, 4, 2, 0, 4, 2, 5, 0, 2, 2, 4, 4, 0, 4, 2, 3, 4, 3, 2, 3, 2, 0, 4, 0, 0, 2, 3, 3, 0, 0, 4, 2, 2, 3, 4, 3, 3, 3, 4, 3, 0, 1, 0, 0, 4, 1, 3, 0, 1, 2, 0, 4, 4, 4, 5, 4, 4, 1, 3, 4, 4, 2, 2, 0, 4, 1, 3, 1, 0, 1, 3, 0, 0, 1, 0, 4, 3, 3, 0, 4, 4, 1, 3, 4, 4, 4, 2, 0, 4, 1, 2, 2, 1, 2, 2, 2, 0, 2, 3, 2, 0, 0, 0, 1, 3, 1, 4, 2, 0, 1, 4, 4, 0, 3, 1, 2, 3, 0, 0, 4, 0, 0, 4, 4, 2, 1, 0, 4, 0, 1, 1, 0, 4, 1, 2, 0, 1, 4, 4, 2, 4, 4, 4, 2, 0, 1, 1, 0, 1, 0, 2, 2, 4, 0, 4, 1, 2, 1, 2, 1, 0, 2, 1, 2, 0, 0, 4, 2, 4, 2, 2, 2, 0, 0, 2, 0, 0, 0, 1, 4, 0, 2, 2, 4, 3, 4, 2, 0, 0, 3, 1, 0, 0, 4, 2, 0, 2, 0, 0, 0, 3, 1, 2, 0, 1, 0, 4, 4, 4, 3, 2, 1, 4, 3, 4, 0, 2, 0, 1, 0, 4, 1, 4, 1, 0, 3, 0, 1, 1, 1, 1, 2, 1, 2, 4, 2, 4, 1, 3, 2, 4, 3, 3, 1, 1, 2, 3, 3, 4, 0, 2, 1, 3, 4, 0, 4, 1, 2, 4, 1, 2, 0, 4, 2, 3, 0, 4, 2, 0, 5, 2, 4, 2, 3, 1, 3, 0, 0, 2, 2, 2, 1, 1, 2, 3, 2, 4, 2, 2, 2, 2, 0, 1, 1, 4, 2, 1, 3, 3, 2, 2, 3, 2, 1, 1, 2, 0, 1, 3, 2, 1, 0, 3, 2, 2, 4, 0, 3, 2, 0, 4, 1, 2, 2, 3, 0, 4, 0, 1, 4, 1, 2, 2, 4, 2, 0, 2, 2, 2, 0, 2, 4, 0, 4, 3, 1, 3, 2, 3, 1, 2, 3, 2, 2, 0, 2, 1, 0, 3, 2, 1, 1, 0, 4, 0, 0, 4, 3, 2, 0, 2, 3, 0, 3, 2, 1, 4, 2, 2, 4, 2, 1, 2, 0, 3, 1, 3, 2, 3, 2, 4, 4, 2, 4, 0, 2, 3, 4, 0, 3, 4, 4, 2, 2, 1, 2, 1, 4, 4, 0, 3, 5, 2, 3, 0, 2, 0, 4, 4, 3, 0, 0, 4, 3, 1, 4, 1, 3, 3, 1, 2, 1, 0, 1, 2, 0, 4, 4, 0, 2, 3, 3, 0, 3, 0, 2, 3, 1, 2, 0, 0, 0, 2, 5, 4, 4, 2, 3, 3, 4, 1, 1, 1, 3, 3, 2, 1, 1, 4, 0, 4, 4, 3, 2, 4, 2, 3, 2, 1, 4, 1, 3, 2, 1, 2, 0, 4, 2, 1, 0, 2, 4, 3, 4, 4, 2, 2, 3, 2, 3, 1, 1, 5, 4, 4, 3, 0, 0, 4, 0, 2, 1, 2, 0, 0, 1, 4, 3, 2, 0, 0, 1, 3, 4, 2, 4, 2, 4, 0, 0, 1, 3, 1, 0, 2, 0, 2, 2, 0, 0, 0, 3, 4, 3, 4, 4, 3, 4, 1, 3, 0, 4, 2, 0, 2, 0, 2, 1, 3, 3, 4, 4, 2, 2, 4, 2, 3, 0, 1, 2, 1, 0, 0, 4, 4, 3, 2, 0, 2, 4, 2, 4, 2, 2, 0, 0, 2, 3, 3, 4, 4, 2, 4, 4, 0, 1, 3, 4, 1, 1, 2, 1, 1, 0, 3, 0, 1, 1, 0, 1, 1, 1, 5, 3, 3, 3, 1, 4, 2, 2, 4, 4, 4, 1, 2, 4, 1, 3, 4, 2, 2, 4, 2, 1, 0, 1, 1, 1, 1, 2, 4, 2, 0, 1, 2, 4, 3, 0, 3, 5, 3, 4, 0, 0, 2, 5, 0, 4, 2, 2, 0, 1, 2, 1, 4, 2, 1, 2, 1, 3, 2, 3, 4, 2, 4, 4, 0, 2, 1, 3, 0, 4, 3, 0, 4, 2, 1, 4, 4, 0, 1, 0, 0, 3, 3, 4, 0, 2, 4, 3, 3, 0, 4, 4, 4, 2, 2, 3, 5, 3, 4, 3, 0, 2, 4, 2, 3, 4, 1, 2, 4, 1, 3, 2, 5, 0, 4, 2, 3, 3, 1, 1, 0, 4, 0, 0, 4, 0, 1, 0, 1, 0, 2, 1, 2, 0, 3, 2, 2, 4, 2, 2, 4, 2, 2, 1, 0, 4, 2, 2, 0, 2, 1, 4, 1, 2, 2, 2, 2, 0, 3, 4, 2, 4, 4, 0, 2, 3, 0, 4, 4, 2, 2, 3, 0, 4, 2, 0, 1, 4, 4, 3, 4, 0, 3, 4, 0, 3, 3, 1, 0, 2, 1, 4, 1, 4, 4, 0, 1, 0, 2, 1, 1, 4, 4, 3, 4, 3, 2, 2, 1, 0, 0, 3, 4, 3, 2, 3, 3, 4, 0, 2, 4, 2, 5, 4, 1, 2, 2, 2, 0, 3, 3, 3, 3, 0, 3, 2, 0, 3, 2, 3, 2, 4, 2, 3, 0, 3, 0, 4, 0, 1, 0, 2, 5, 2, 4, 2, 4, 1, 1, 0, 1, 1, 4, 1, 0, 2, 0, 3, 4, 1, 2, 4, 0, 2, 1, 2, 4, 4, 2, 3, 3, 0, 0, 4, 4, 1, 1, 1, 1, 4, 2, 4, 4, 1, 0, 3, 0, 2, 4, 2, 3, 4, 0, 0, 0, 4, 2, 2, 1, 4, 0, 4, 2, 4, 0, 1, 0, 0, 2, 4, 0, 3, 3, 5, 2, 4, 0, 1, 2, 3, 2, 2, 1, 0, 3, 2, 4, 2, 0, 0, 2, 0, 1, 2, 3, 2, 3, 1, 3, 3, 1, 0, 3, 1, 0, 4, 4, 4, 2, 1, 4, 2, 0, 5, 4, 0, 3, 0, 3, 2, 2, 3, 4, 1, 4, 0, 1, 1, 1, 0, 3, 0, 2, 0, 2, 1, 1, 1, 4, 4, 1, 0, 4, 4, 3, 4, 4, 2, 4, 1, 2, 2, 0, 2, 0, 1, 1, 4, 0, 1, 1, 0, 2, 2, 4, 2, 0, 0, 2, 4, 0, 4, 4, 0, 2, 4, 4, 2, 1, 0, 0, 4, 4, 2, 2, 1, 0, 0, 2, 3, 5, 4, 4, 0, 4, 1, 2, 2, 1, 4, 4, 3, 1, 3, 3, 0, 0, 3, 1, 4, 3, 4, 1, 3, 0, 2, 4, 3, 0, 0, 1, 2, 2, 2, 1, 2, 4, 0, 3, 0, 4, 3, 2, 0, 0, 1, 0, 3, 1, 5, 4, 0, 4, 4, 0, 2, 1, 5, 4, 0, 0, 4, 4, 0, 3, 4, 4, 2, 3, 3, 4, 2, 1, 3, 2, 3, 1, 0, 4, 2, 4, 0, 4, 1, 4, 0, 4, 4, 3, 2, 2, 2, 4, 0, 2, 0, 4, 0, 2, 0, 2, 4, 3, 4, 0, 3, 4, 2, 0, 2, 4, 3, 1, 2, 0, 2, 2, 0, 0, 2, 2, 1, 1, 3, 0, 1, 1, 4, 4, 2, 4, 1, 0, 0, 3, 4, 0, 4, 1, 3, 3, 2, 1, 3, 3, 0, 0, 3, 0, 0, 1, 4, 4, 4, 1, 4, 1, 4, 0, 4, 2, 4, 2, 2, 0, 1, 3, 4, 2, 0, 3, 3, 5, 1, 2, 4, 3, 4, 1, 4, 2, 3, 1, 4, 0, 1, 1, 4, 4, 4, 2, 4, 3, 2, 3, 0, 0, 4, 4, 4, 2, 1, 4, 1, 2, 3, 0, 0, 1, 2, 2, 0, 2, 0, 2, 2, 4, 2, 1, 1, 2, 5, 4, 2, 1, 0, 1, 3, 3, 4, 0, 1, 2, 3, 1, 3, 4, 4, 1, 1, 3, 0, 3, 0, 0, 3, 4, 4, 0, 2, 4, 2, 4, 3, 0, 1, 1, 2, 1, 2, 1, 3, 1, 1, 4, 2, 2, 2, 0, 0, 2, 2, 1, 4, 1, 3, 1, 1, 3, 0, 4, 2, 2, 3, 0, 2, 4, 0, 3, 4, 2, 3, 1, 4, 3, 3, 0, 0, 4, 1, 4, 4, 2, 4, 2, 2, 1, 1, 2, 4, 1, 1, 4, 0, 4, 3, 5, 1, 2, 0, 2, 1, 3, 3, 0, 3, 2, 0, 2, 4, 2, 2, 1, 1, 0, 3, 2, 2, 1, 0, 4, 4, 0, 3, 4, 3, 1, 3, 3, 1, 4, 4, 2, 2, 2, 1, 2, 4, 4, 0, 2, 3, 1, 2, 0, 2, 5, 3, 1, 3, 1, 4, 4, 2, 4, 0, 4, 1, 4, 1, 4, 2, 0, 4, 2, 4, 4, 4, 2, 3, 1, 1, 4, 4, 2, 2, 1, 3, 0, 1, 0, 0, 4, 0, 0, 2, 3, 2, 0, 2, 0, 4, 4, 4, 1, 1, 1, 4, 1, 0, 0, 4, 3, 2, 4, 0, 4, 1, 1, 3, 1, 4, 4, 5, 0, 0, 3, 4, 0, 1, 3, 0, 1, 2, 3, 0, 0, 2, 3, 3, 4, 0, 1, 3, 4, 4, 2, 4, 3, 2, 2, 0, 0, 4, 4, 2, 0, 4, 1, 3, 1, 4, 0, 2, 0, 3, 4, 2, 0, 3, 2, 0, 1, 0, 2, 3, 4, 2, 2, 0, 1, 4, 4, 2, 0, 4, 1, 1, 3, 2, 2, 4, 0, 2, 4, 2, 0, 2, 2, 1, 4, 1, 2, 5, 1, 3, 0, 3, 1, 5, 4, 1, 0, 0, 5, 3, 2, 1, 4, 4, 4, 0, 2, 0, 3, 2, 3, 2, 0, 3, 1, 3, 4, 4, 4, 4, 4, 1, 0, 3, 0, 3, 0, 1, 4, 0, 0, 2, 1, 0, 0, 0, 0, 3, 0, 2, 2, 1, 2, 2, 2, 5, 2, 1, 2, 2, 2, 1, 4, 2, 4, 2, 0, 1, 2, 0, 2, 0, 3, 1, 0, 0, 2, 1, 1, 2, 3, 5, 3, 0, 0, 3, 4, 4, 4, 0, 3, 4, 1, 5, 2, 2, 3, 4, 0, 4, 3, 1, 4, 2, 2, 4, 1, 1, 2, 2, 3, 2, 4, 3, 1, 0, 0, 1, 4, 2, 1, 4, 4, 4, 2, 3, 4, 3, 2, 4, 3, 4, 0, 3, 3, 2, 1, 1, 2, 2, 0, 2, 4, 2, 4, 1, 0, 4, 2, 1, 2, 3, 0, 2, 2, 2, 0, 1, 2, 4, 4, 4, 2, 4, 0, 2, 1, 4, 0, 2, 0, 0, 1, 1, 3, 4, 1, 1, 2, 0, 2, 3, 0, 3, 1, 1, 3, 1, 2, 4, 3, 1, 0, 4, 3, 0, 1, 2, 2, 2, 0, 5, 2, 2, 1, 3, 3, 1, 2, 0, 2, 4, 1, 1, 2, 2, 3, 2, 0, 2, 3, 2, 0, 2, 4, 3, 1, 2, 3, 1, 0, 2, 1, 2, 3, 0, 4, 4, 0, 1, 4, 0, 4, 0, 4, 0, 4, 3, 2, 2, 1, 4, 4, 3, 0, 0, 4, 4, 0, 3, 0, 4, 2, 3, 3, 1, 1, 4, 3, 4, 1, 0, 1, 4, 2, 4, 0, 0, 0, 1, 2, 2, 2, 4, 4, 0, 1, 3, 1, 3, 4, 4, 0, 3, 1, 3, 2, 4, 4, 4, 0, 0, 0, 2, 5, 4, 0, 1, 3, 2, 2, 0, 1, 2, 2, 0, 4, 2, 4, 4, 2, 1, 3, 2, 0, 1, 0, 0, 1, 1, 4, 4, 4, 2, 0, 4, 3, 0, 3, 4, 4, 2, 0, 0, 2, 5, 0, 4, 2, 4, 4, 4, 2, 2, 2, 3, 0, 3, 1, 0, 3, 4, 0, 4, 1, 0, 3, 2, 0, 0, 0, 4, 3, 2, 0, 2, 2, 1, 1, 4, 0, 3, 1, 0, 2, 0, 1, 0, 1, 4, 3, 1, 1, 0, 3, 2, 2, 2, 4, 1, 3, 2, 3, 2, 3, 2, 1, 3, 0, 4, 0, 4, 2, 2, 1, 3, 0, 0, 1, 0, 3, 0, 2, 4, 1, 5, 1, 0, 0, 2, 4, 2, 0, 0, 4, 3, 2, 2, 4, 4, 0, 3, 4, 1, 0, 0, 4, 1, 4, 0, 1, 1, 1, 0, 3, 2, 2, 2, 3, 2, 4, 2, 4, 0, 1, 4, 3, 4, 3, 1, 1, 2, 2, 1, 3, 0, 0, 0, 2, 0, 1, 4, 3, 4, 4, 0, 2, 4, 4, 2, 1, 4, 0, 2, 3, 0, 2, 2, 0, 1, 2, 2, 4, 0, 0, 2, 1, 2, 1, 3, 2, 4, 0, 1, 0, 0, 4, 2, 1, 2, 0, 3, 1, 2, 0, 0, 4, 2, 4, 4, 2, 1, 1, 4, 2, 4, 0, 3, 4, 2, 4, 4, 4, 2, 2, 2, 2, 2, 1, 4, 1, 2, 4, 3, 2, 3, 0, 2, 4, 3, 2, 2, 0, 4, 4, 2, 2, 3, 4, 4, 0, 3, 3, 0, 0, 4, 0, 4, 3, 0, 4, 0, 4, 3, 2, 3, 4, 1, 1, 2, 2, 2, 2, 1, 1, 0, 3, 0, 0, 4, 4, 4, 0, 0, 2, 0, 4, 4, 3, 2, 3, 0, 3, 3, 0, 3, 1, 2, 2, 2, 4, 1, 0, 0, 4, 2, 2, 2, 3, 1, 3, 0, 0, 4, 4, 0, 0, 2, 4, 1, 4, 3, 1, 4, 0, 1, 1, 2, 2, 2, 3, 2, 0, 3, 0, 0, 4, 0, 2, 0, 4, 0, 4, 3, 4, 4, 4, 1, 4, 2, 1, 2, 1, 3, 3, 0, 4, 3, 4, 1, 1, 2, 2, 4, 2, 2, 4, 0, 3, 5, 1, 2, 0, 4, 1, 0, 0, 4, 3, 2, 3, 1, 3, 4, 0, 0, 1, 2, 2, 5, 1, 1, 3, 2, 2, 2, 2, 4, 4, 1, 2, 2, 1, 3, 4, 0, 1, 4, 4, 3, 3, 0, 3, 1, 4, 1, 3, 4, 2, 4, 2, 0, 0, 0, 0, 2, 0, 0, 1, 2, 5, 2, 0, 0, 1, 0, 3, 0, 5, 3, 3, 2, 0, 4, 0, 1, 4, 2, 2, 4, 3, 4, 0, 0, 2, 1, 1, 3, 0, 4, 2, 1, 4, 4, 0, 2, 4, 4, 1, 4, 1, 0, 4, 1, 1, 2, 1, 4, 0, 0, 1, 3, 1, 1, 5, 2, 2, 2, 2, 2, 4, 4, 4, 5, 1, 1, 0, 3, 2, 0, 4, 1, 0, 2, 0, 1, 4, 2, 1, 3, 1, 1, 4, 0, 3, 4, 3, 5, 1, 2, 4, 0, 4, 4, 1, 0, 2, 3, 3, 0, 0, 0, 1, 0, 4, 0, 0, 3, 4, 2, 3, 0, 4, 0, 3, 0, 0, 4, 0, 4, 4, 0, 2, 0, 0, 4, 2, 2, 0, 2, 4, 0, 4, 2, 0, 4, 1, 4, 1, 2, 4, 2, 2, 0, 0, 1, 4, 2, 0, 2, 3, 0, 1, 3, 2, 2, 0, 3, 2, 0, 0, 2, 0, 3, 0, 1, 0, 3, 3, 0, 4, 1, 0, 1, 0, 2, 4, 1, 4, 0, 3, 4, 0, 2, 3, 3, 3, 3, 0, 0, 3, 2, 0, 0, 1, 3, 4, 3, 3, 2, 4, 4, 4, 1, 3, 2, 1, 1, 2, 4, 3, 0, 4, 1, 2, 2, 2, 1, 2, 2, 3, 0, 2, 2, 1, 2, 1, 3, 4, 0, 4, 1, 4, 3, 4, 2, 4, 1, 2, 2, 0, 3, 4, 2, 3, 3, 1, 4, 2, 0, 1, 2, 3, 4, 2, 2, 5, 4, 5, 2, 4, 4, 2, 0, 1, 0, 4, 1, 4, 1, 0, 2, 2, 4, 1, 3, 1, 4, 2, 3, 1, 1, 1, 0, 2, 0, 2, 1, 2, 0, 0, 3, 3, 1, 1, 0, 4, 4, 0, 3, 2, 2, 2, 0, 3, 5, 3, 1, 4, 4, 4, 5, 1, 2, 2, 3, 4, 1, 1, 4, 4, 4, 2, 3, 1, 2, 1, 2, 0, 2, 4, 3, 1, 2, 0, 3, 0, 0, 2, 4, 2, 3, 3, 1, 0, 1, 0, 2, 2, 3, 2, 2, 2, 4, 0, 2, 1, 4, 4, 0, 0, 3, 3, 1, 2, 2, 3, 2, 3, 4, 4, 2, 0, 2, 2, 0, 4, 4, 2, 1, 1, 3, 0, 3, 2, 3, 3, 4, 4, 3, 1, 0, 2, 1, 2, 2, 2, 3, 3, 3, 1, 1, 1, 0, 4, 4, 1, 0, 2, 3, 4, 2, 0, 0, 1, 2, 4, 1, 0, 0, 4, 2, 1, 0, 1, 4, 3, 0, 2, 4, 3, 2, 4, 1, 1, 3, 2, 0, 0, 3, 4, 3, 2, 4, 4, 1, 1, 4]\n"
          ]
        }
      ],
      "source": [
        "print(len(train_target))\n",
        "print(train_target)"
      ]
    },
    {
      "cell_type": "markdown",
      "metadata": {
        "id": "xzcYVcpVAe5H"
      },
      "source": [
        "# Training X_train_counts"
      ]
    },
    {
      "cell_type": "code",
      "execution_count": null,
      "metadata": {
        "tags": [],
        "id": "jtKOHl1SAe5H",
        "outputId": "d1d231ef-24bd-454d-f443-7dacd382c695"
      },
      "outputs": [
        {
          "name": "stdout",
          "output_type": "stream",
          "text": [
            "done !!!\n"
          ]
        }
      ],
      "source": [
        "# method 1\n",
        "# MultinomialNB\n",
        "# from sklearn.naive_bayes import MultinomialNB\n",
        "# clf = MultinomialNB().fit(X_train, train_target)\n",
        "\n",
        "# method 2\n",
        "# from sklearn.linear_model import SGDClassifier\n",
        "# clf = SGDClassifier(loss='hinge', penalty='l2',\n",
        "#                     alpha=1e-3, random_state=42,\n",
        "#                     max_iter=100, tol=None)\n",
        "# clf.fit(X_train, train_target)\n",
        "\n",
        "# method 3\n",
        "from sklearn import svm\n",
        "# https://scikit-learn.org/stable/modules/svm.html#svm\n",
        "clf = svm.LinearSVC()\n",
        "clf.fit(X_train, train_target)\n",
        "print(\"done !!!\")\n",
        "\n",
        "# method 4\n",
        "# from sklearn import svm\n",
        "# clf = svm.SVC(kernel='linear')\n",
        "# # clf = svm.SVC(kernel='rbf')\n",
        "# clf.fit(X_train, train_target)\n",
        "\n",
        "# https://scikit-learn.org/stable/auto_examples/svm/plot_rbf_parameters.html#sphx-glr-auto-examples-svm-plot-rbf-parameters-py\n",
        "\n",
        "# method 5\n",
        "\n",
        "# from sklearn.linear_model import LogisticRegression\n",
        "# clf = LogisticRegression(penalty='l2', verbose=1)\n",
        "# clf.fit(X_train, train_target)"
      ]
    },
    {
      "cell_type": "markdown",
      "metadata": {
        "id": "NAA7P_ttAe5I"
      },
      "source": [
        "# Predict"
      ]
    },
    {
      "cell_type": "code",
      "execution_count": null,
      "metadata": {
        "tags": [],
        "id": "d6CU7iEKAe5I",
        "outputId": "0114d31f-800e-4494-f779-f5bc13dc44de"
      },
      "outputs": [
        {
          "name": "stdout",
          "output_type": "stream",
          "text": [
            "input\n",
            "[[0 0 0 ... 0 0 0]\n",
            " [0 0 0 ... 0 0 0]\n",
            " [0 0 0 ... 0 0 0]]\n",
            "result\n",
            "0 DESC\n",
            "2 HUM\n",
            "1 NUM\n"
          ]
        }
      ],
      "source": [
        "docs_new = ['what is computer',\n",
        "            'who is Newton',\n",
        "            'when is the Tet holiday ?']\n",
        "X_new_counts = count_vect.transform(docs_new)\n",
        "X_new = X_new_counts\n",
        "print(\"input\")\n",
        "print(X_new.toarray())\n",
        "# X_new = tf_transformer.transform(X_new_counts)\n",
        "predicted = clf.predict(X_new)\n",
        "print(\"result\")\n",
        "# print([id2label[x] for x in predicted])\n",
        "for x in predicted:\n",
        "    print(x, id2label[x])\n",
        "\n",
        "# for doc, category in zip(docs_new, predicted):\n",
        "#     print(doc,  category, type(category), id2label[category])"
      ]
    },
    {
      "cell_type": "code",
      "execution_count": null,
      "metadata": {
        "tags": [],
        "id": "VhnNyrbmAe5I",
        "outputId": "a1216ec3-6abc-4725-8a52-b19f719fc660"
      },
      "outputs": [
        {
          "name": "stdout",
          "output_type": "stream",
          "text": [
            "input\n",
            "[[0 0 0 ... 0 0 0]\n",
            " [0 0 0 ... 0 0 0]]\n",
            "(2, 61819)\n",
            "result\n",
            "[2 0]\n",
            "HUM\n",
            "DESC\n"
          ]
        }
      ],
      "source": [
        "docs_new = ['who is president of Vietnam',\n",
        "            'what is the weather today ?']\n",
        "X_new_counts = count_vect.transform(docs_new)\n",
        "X_new = X_new_counts\n",
        "print(\"input\")\n",
        "print(X_new.toarray())\n",
        "print(X_new.shape)\n",
        "# X_new = tf_transformer.transform(X_new_counts)\n",
        "predicted = clf.predict(X_new)\n",
        "print(\"result\")\n",
        "print(predicted)\n",
        "for x in predicted:\n",
        "    print(id2label[x])\n",
        "\n",
        "# for doc, category in zip(docs_new, predicted):\n",
        "#     print(doc,  category, type(category), id2label[category])"
      ]
    },
    {
      "cell_type": "code",
      "execution_count": null,
      "metadata": {
        "tags": [],
        "id": "6uwbuMWoAe5I",
        "outputId": "332d4530-5a65-499a-d658-01d6932621aa"
      },
      "outputs": [
        {
          "name": "stdout",
          "output_type": "stream",
          "text": [
            "0 who is president of Vietnam 2 HUM\n",
            "1 what is the weather today ? 0 DESC\n"
          ]
        }
      ],
      "source": [
        "for i, d in enumerate(docs_new):\n",
        "    print(i, d, predicted[i], id2label[predicted[i]])"
      ]
    },
    {
      "cell_type": "markdown",
      "metadata": {
        "id": "HyNjk7ArAe5I"
      },
      "source": [
        "# Evaluation"
      ]
    },
    {
      "cell_type": "code",
      "execution_count": null,
      "metadata": {
        "tags": [],
        "id": "JTt7ELinAe5I",
        "outputId": "870f89ba-e0e3-48ef-c312-2acbc7085e82"
      },
      "outputs": [
        {
          "name": "stdout",
          "output_type": "stream",
          "text": [
            "500 500\n",
            "How far is it from Denver to Aspen ? 1\n"
          ]
        }
      ],
      "source": [
        "test_target = [label2id[x['label-coarse']] for _, x in test]\n",
        "test_data = [x['text'] for _, x in test]\n",
        "print(len(test_data), len(test_target))\n",
        "print(test_data[0], test_target[0])\n"
      ]
    },
    {
      "cell_type": "code",
      "execution_count": null,
      "metadata": {
        "tags": [],
        "id": "rXzJbMS-Ae5J",
        "outputId": "b57ec802-fe01-4691-9783-b9892bec6b69"
      },
      "outputs": [
        {
          "name": "stdout",
          "output_type": "stream",
          "text": [
            "500\n",
            "System\n",
            "[1 3 2 0 1 1 2 0 0 0 3 4 1 2 1 1 3 2 0 1 2 0 3 0 0 2 0 4 3 4 1 3 0 1 1 1 3\n",
            " 1 1 1 4 0 0 0 4 0 1 0 1 2 0 2 2 0 0 0 1 3 3 0 3 2 3 4 3 2 4 0 1 3 1 1 3 2\n",
            " 3 0 4 1 1 2 0 1 2 1 1 0 0 2 0 3 4 0 1 1 3 3 1 0 0 2 0 2 0 2 3 0 1 4 1 3 4\n",
            " 0 1 4 0 2 1 4 2 3 1 4 0 2 0 2 1 4 0 1 1 2 0 4 0 0 3 2 2 0 0 4 3 0 0 4 2 4\n",
            " 0 0 4 2 0 1 2 3 3 0 4 3 0 0 1 3 4 4 1 0 3 2 1 1 1 0 3 3 3 1 4 1 4 0 3 0 0\n",
            " 2 2 0 3 0 0 3 1 1 0 3 4 2 4 4 4 3 2 4 0 3 2 1 4 0 1 1 3 3 0 4 0 4 1 0 0 1\n",
            " 0 0 3 4 1 4 3 2 1 2 0 1 4 0 3 0 3 1 4 0 0 0 0 3 0 0 0 0 2 0 4 4 0 3 3 4 0\n",
            " 4 2 2 1 4 1 0 0 3 1 0 4 0 0 2 0 0 0 1 5 0 3 2 5 0 3 0 0 0 0 0 3 0 1 4 0 0\n",
            " 4 1 4 4 5 1 0 1 1 3 2 3 2 1 3 3 1 0 3 0 2 3 4 3 0 1 0 4 1 0 0 1 1 0 0 1 4\n",
            " 4 0 3 0 4 0 1 1 4 1 2 1 2 2 0 1 0 1 3 3 0 0 2 1 0 0 4 0 0 4 1 0 0 4 4 0 3\n",
            " 1 4 0 0 2 1 3 0 5 0 2 2 4 2 1 1 0 2 0 0 2 0 0 1 0 0 0 1 1 3 0 0 1 5 1 3 0\n",
            " 3 1 0 2 4 3 5 3 0 0 0 2 2 1 0 4 0 3 4 0 3 0 2 0 4 3 2 0 0 0 1 5 4 2 4 3 4\n",
            " 2 4 0 2 1 4 4 4 0 1 0 1 4 3 0 0 4 0 0 0 3 4 0 4 0 0 0 0 4 1 4 4 0 3 4 3 4\n",
            " 4 4 0 3 0 3 1 4 4 0 0 4 1 1 2 4 1 4 0]\n",
            "Gold Label\n",
            "[1, 3, 2, 0, 1, 1, 2, 4, 0, 0, 3, 2, 1, 2, 1, 1, 4, 2, 0, 1, 2, 0, 3, 0, 0, 2, 0, 3, 3, 3, 1, 3, 0, 1, 1, 1, 3, 1, 1, 1, 4, 0, 0, 0, 4, 4, 1, 0, 1, 2, 0, 2, 2, 0, 0, 0, 1, 3, 3, 1, 3, 2, 3, 4, 3, 2, 4, 0, 1, 3, 1, 1, 3, 2, 3, 0, 4, 1, 1, 2, 0, 1, 2, 1, 1, 0, 0, 2, 0, 3, 4, 0, 1, 1, 2, 3, 1, 0, 0, 4, 0, 2, 0, 2, 3, 0, 1, 4, 1, 3, 4, 0, 1, 2, 4, 2, 1, 4, 1, 3, 1, 1, 0, 2, 1, 2, 1, 1, 0, 1, 1, 2, 0, 4, 0, 4, 3, 2, 2, 0, 0, 4, 3, 4, 0, 4, 2, 4, 0, 0, 4, 2, 0, 1, 2, 3, 3, 0, 3, 3, 0, 0, 1, 3, 4, 3, 1, 0, 3, 2, 1, 1, 1, 0, 3, 3, 3, 1, 4, 1, 3, 0, 3, 0, 4, 2, 2, 0, 3, 4, 4, 1, 1, 1, 0, 3, 4, 2, 4, 4, 4, 3, 2, 4, 1, 3, 2, 1, 0, 0, 1, 1, 3, 3, 0, 4, 0, 4, 1, 0, 0, 1, 0, 4, 3, 4, 1, 0, 3, 2, 1, 2, 0, 1, 4, 0, 3, 0, 3, 1, 3, 0, 0, 0, 0, 3, 0, 0, 0, 4, 2, 3, 4, 4, 0, 3, 1, 4, 0, 1, 2, 2, 1, 4, 1, 0, 0, 3, 1, 0, 4, 0, 0, 2, 0, 0, 0, 1, 5, 4, 3, 2, 5, 0, 3, 0, 0, 0, 0, 0, 3, 4, 1, 4, 0, 0, 4, 1, 4, 4, 5, 1, 0, 1, 1, 3, 2, 3, 2, 1, 3, 3, 1, 0, 3, 0, 2, 3, 4, 3, 0, 1, 5, 4, 1, 5, 0, 1, 1, 0, 0, 1, 4, 4, 1, 3, 0, 4, 0, 1, 1, 4, 1, 2, 1, 2, 4, 0, 1, 0, 1, 3, 4, 4, 0, 2, 1, 1, 0, 4, 0, 0, 4, 1, 0, 1, 4, 4, 0, 3, 1, 4, 0, 0, 4, 1, 3, 0, 5, 0, 2, 2, 4, 2, 1, 1, 0, 2, 0, 0, 2, 0, 4, 1, 0, 0, 0, 1, 1, 3, 2, 4, 1, 5, 1, 3, 0, 3, 1, 0, 2, 4, 3, 5, 4, 0, 0, 0, 2, 2, 1, 3, 4, 0, 3, 4, 0, 3, 0, 2, 0, 4, 3, 2, 0, 0, 0, 1, 5, 4, 2, 4, 3, 4, 2, 4, 3, 2, 1, 4, 4, 4, 4, 1, 1, 1, 4, 3, 0, 0, 2, 4, 3, 1, 3, 4, 0, 2, 0, 0, 0, 0, 4, 1, 4, 4, 0, 3, 4, 3, 4, 4, 4, 0, 3, 0, 3, 1, 4, 4, 0, 0, 4, 1, 1, 2, 4, 1, 4, 0]\n"
          ]
        }
      ],
      "source": [
        "X_new_counts = count_vect.transform(test_data)\n",
        "X_new = X_new_counts\n",
        "# X_new = tf_transformer.transform(X_new_counts)\n",
        "predicted = clf.predict(X_new)\n",
        "print(len(predicted))\n",
        "print(\"System\")\n",
        "print(predicted)\n",
        "print(\"Gold Label\")\n",
        "print(test_target)"
      ]
    },
    {
      "cell_type": "code",
      "execution_count": null,
      "metadata": {
        "tags": [],
        "id": "rL-yMvpXAe5J",
        "outputId": "14aa192a-4d4a-4a2d-cc11-de207a915ef4"
      },
      "outputs": [
        {
          "data": {
            "text/plain": [
              "443"
            ]
          },
          "execution_count": 159,
          "metadata": {},
          "output_type": "execute_result"
        }
      ],
      "source": [
        "ncorrect = sum([y_pred == y for y_pred, y in zip (predicted, test_target)])\n",
        "ncorrect"
      ]
    },
    {
      "cell_type": "code",
      "execution_count": null,
      "metadata": {
        "tags": [],
        "id": "DqDRZOLMAe5J",
        "outputId": "4c3707a0-42bf-4d15-e350-00f41c7ad1ed"
      },
      "outputs": [
        {
          "name": "stdout",
          "output_type": "stream",
          "text": [
            "443\n"
          ]
        }
      ],
      "source": [
        "count = 0\n",
        "for i, system_label in enumerate(predicted):\n",
        "    gold_label = test_target[i]\n",
        "#     print(system_label, gold_label)\n",
        "    if system_label == gold_label:\n",
        "        count += 1\n",
        "print(count)"
      ]
    },
    {
      "cell_type": "code",
      "execution_count": null,
      "metadata": {
        "tags": [],
        "id": "e02PoSR6Ae5J",
        "outputId": "581ff386-aeba-4630-d35a-3457ce7452ed"
      },
      "outputs": [
        {
          "name": "stdout",
          "output_type": "stream",
          "text": [
            "accurracy 0.886\n"
          ]
        }
      ],
      "source": [
        "accurracy = ncorrect / len(test_target)\n",
        "print(\"accurracy\", accurracy)"
      ]
    },
    {
      "cell_type": "code",
      "execution_count": null,
      "metadata": {
        "id": "eF6r60aOAe5J"
      },
      "outputs": [],
      "source": []
    },
    {
      "cell_type": "code",
      "execution_count": null,
      "metadata": {
        "tags": [],
        "id": "K3Gm_NA6Ae5J"
      },
      "outputs": [],
      "source": [
        "# Check the vector of each sample"
      ]
    },
    {
      "cell_type": "code",
      "execution_count": null,
      "metadata": {
        "tags": [],
        "id": "5iMABMQ9Ae5J",
        "outputId": "6d23a2cb-8466-45d2-d3ef-ed30ad43ab81"
      },
      "outputs": [
        {
          "data": {
            "text/plain": [
              "'How did serfdom develop in and then leave Russia ?'"
            ]
          },
          "execution_count": 162,
          "metadata": {},
          "output_type": "execute_result"
        }
      ],
      "source": [
        "train_data[0]"
      ]
    },
    {
      "cell_type": "code",
      "execution_count": null,
      "metadata": {
        "tags": [],
        "id": "l_WaK3afAe5J",
        "outputId": "244be895-0870-451f-bf82-3bb253cb0653"
      },
      "outputs": [
        {
          "name": "stdout",
          "output_type": "stream",
          "text": [
            "  (0, 2355)\t1\n",
            "  (0, 2904)\t1\n",
            "  (0, 2906)\t1\n",
            "  (0, 12645)\t1\n",
            "  (0, 12646)\t1\n",
            "  (0, 12647)\t1\n",
            "  (0, 12765)\t1\n",
            "  (0, 13144)\t1\n",
            "  (0, 13145)\t1\n",
            "  (0, 22825)\t1\n",
            "  (0, 22860)\t1\n",
            "  (0, 22873)\t1\n",
            "  (0, 23671)\t1\n",
            "  (0, 23821)\t1\n",
            "  (0, 23823)\t1\n",
            "  (0, 29005)\t1\n",
            "  (0, 29010)\t1\n",
            "  (0, 42229)\t1\n",
            "  (0, 43147)\t1\n",
            "  (0, 43148)\t1\n",
            "  (0, 43149)\t1\n",
            "  (0, 51584)\t1\n",
            "  (0, 51593)\t1\n",
            "  (0, 51594)\t1\n"
          ]
        }
      ],
      "source": [
        "for i in X_train[0]:\n",
        "    print(i)"
      ]
    },
    {
      "cell_type": "code",
      "execution_count": null,
      "metadata": {
        "tags": [],
        "id": "FNCtdlecAe5K",
        "outputId": "810b62f3-7c88-4c23-f95e-f9fa2cf990d8"
      },
      "outputs": [
        {
          "name": "stdout",
          "output_type": "stream",
          "text": [
            "[[0 0 0 ... 0 0 0]]\n"
          ]
        }
      ],
      "source": [
        "print(X_train[0].toarray())"
      ]
    },
    {
      "cell_type": "code",
      "execution_count": null,
      "metadata": {
        "tags": [],
        "id": "YqMhMhmyAe5K",
        "outputId": "2f6ff79e-f55f-4d19-97a1-c47adde82823"
      },
      "outputs": [
        {
          "name": "stdout",
          "output_type": "stream",
          "text": [
            "2355 and\n",
            "2904 and then\n",
            "2906 and then leave\n",
            "12645 develop\n",
            "12646 develop in\n",
            "12647 develop in and\n",
            "12765 did\n",
            "13144 did serfdom\n",
            "13145 did serfdom develop\n",
            "22825 how\n",
            "22860 how did\n",
            "22873 how did serfdom\n",
            "23671 in\n",
            "23821 in and\n",
            "23823 in and then\n",
            "29005 leave\n",
            "29010 leave russia\n",
            "42229 russia\n",
            "43147 serfdom\n",
            "43148 serfdom develop\n",
            "43149 serfdom develop in\n",
            "51584 then\n",
            "51593 then leave\n",
            "51594 then leave russia\n"
          ]
        }
      ],
      "source": [
        "for i, x in enumerate(X_train[0].toarray()[0]):\n",
        "    if x > 0:\n",
        "        print(i, count_vect.get_feature_names_out()[i])"
      ]
    },
    {
      "cell_type": "code",
      "execution_count": null,
      "metadata": {
        "tags": [],
        "id": "Q71at5VHAe5K",
        "outputId": "8229d688-ec71-47d3-dab6-60dc134f7cf9"
      },
      "outputs": [
        {
          "data": {
            "text/plain": [
              "61819"
            ]
          },
          "execution_count": 114,
          "metadata": {},
          "output_type": "execute_result"
        }
      ],
      "source": [
        "len(count_vect.get_feature_names_out())"
      ]
    },
    {
      "cell_type": "code",
      "execution_count": null,
      "metadata": {
        "id": "qp4ovMIxAe5K"
      },
      "outputs": [],
      "source": []
    }
  ],
  "metadata": {
    "kernelspec": {
      "display_name": "py39",
      "language": "python",
      "name": "py39"
    },
    "language_info": {
      "codemirror_mode": {
        "name": "ipython",
        "version": 3
      },
      "file_extension": ".py",
      "mimetype": "text/x-python",
      "name": "python",
      "nbconvert_exporter": "python",
      "pygments_lexer": "ipython3",
      "version": "3.9.13"
    },
    "colab": {
      "provenance": []
    }
  },
  "nbformat": 4,
  "nbformat_minor": 0
}