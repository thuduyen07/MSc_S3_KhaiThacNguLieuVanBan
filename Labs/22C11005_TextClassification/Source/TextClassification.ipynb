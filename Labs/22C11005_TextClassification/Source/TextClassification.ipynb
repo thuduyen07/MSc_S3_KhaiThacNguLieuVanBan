{
 "cells": [
  {
   "cell_type": "markdown",
   "metadata": {},
   "source": [
    "# Read data"
   ]
  },
  {
   "cell_type": "code",
   "execution_count": 10,
   "metadata": {},
   "outputs": [
    {
     "data": {
      "text/html": [
       "<div>\n",
       "<style scoped>\n",
       "    .dataframe tbody tr th:only-of-type {\n",
       "        vertical-align: middle;\n",
       "    }\n",
       "\n",
       "    .dataframe tbody tr th {\n",
       "        vertical-align: top;\n",
       "    }\n",
       "\n",
       "    .dataframe thead th {\n",
       "        text-align: right;\n",
       "    }\n",
       "</style>\n",
       "<table border=\"1\" class=\"dataframe\">\n",
       "  <thead>\n",
       "    <tr style=\"text-align: right;\">\n",
       "      <th></th>\n",
       "      <th>comment</th>\n",
       "      <th>label</th>\n",
       "      <th>rate</th>\n",
       "      <th>Unnamed: 3</th>\n",
       "    </tr>\n",
       "  </thead>\n",
       "  <tbody>\n",
       "    <tr>\n",
       "      <th>0</th>\n",
       "      <td>Áo bao đẹp ạ!!</td>\n",
       "      <td>POS</td>\n",
       "      <td>5</td>\n",
       "      <td>NaN</td>\n",
       "    </tr>\n",
       "    <tr>\n",
       "      <th>1</th>\n",
       "      <td>Tuyệt vời !</td>\n",
       "      <td>POS</td>\n",
       "      <td>5</td>\n",
       "      <td>NaN</td>\n",
       "    </tr>\n",
       "    <tr>\n",
       "      <th>2</th>\n",
       "      <td>2day ao khong giong trong.</td>\n",
       "      <td>NEG</td>\n",
       "      <td>1</td>\n",
       "      <td>NaN</td>\n",
       "    </tr>\n",
       "    <tr>\n",
       "      <th>3</th>\n",
       "      <td>Mùi thơm,bôi lên da mềm da.</td>\n",
       "      <td>POS</td>\n",
       "      <td>5</td>\n",
       "      <td>NaN</td>\n",
       "    </tr>\n",
       "    <tr>\n",
       "      <th>4</th>\n",
       "      <td>Vải đẹp, dày dặn.</td>\n",
       "      <td>POS</td>\n",
       "      <td>5</td>\n",
       "      <td>NaN</td>\n",
       "    </tr>\n",
       "  </tbody>\n",
       "</table>\n",
       "</div>"
      ],
      "text/plain": [
       "                       comment label  rate Unnamed: 3\n",
       "0               Áo bao đẹp ạ!!   POS     5        NaN\n",
       "1                  Tuyệt vời !   POS     5        NaN\n",
       "2   2day ao khong giong trong.   NEG     1        NaN\n",
       "3  Mùi thơm,bôi lên da mềm da.   POS     5        NaN\n",
       "4            Vải đẹp, dày dặn.   POS     5        NaN"
      ]
     },
     "execution_count": 10,
     "metadata": {},
     "output_type": "execute_result"
    }
   ],
   "source": [
    "import pandas as pd\n",
    "df = pd.read_csv('../Dataset/dataset.csv', encoding='utf-8')\n",
    "df.head()"
   ]
  },
  {
   "cell_type": "code",
   "execution_count": 11,
   "metadata": {},
   "outputs": [
    {
     "data": {
      "text/plain": [
       "Chất lượng sản phẩm tuyệt vời.                                                         536\n",
       "Đóng gói sản phẩm rất đẹp và chắc chắn.                                                289\n",
       "Thời gian giao hàng rất nhanh.                                                         251\n",
       "Rất đáng tiền.                                                                         214\n",
       "Shop phục vụ rất tốt.                                                                  190\n",
       "                                                                                      ... \n",
       "Giao sai màu.                                                                           1\n",
       "Dùng hiện tại thấy oke.                                                                  1\n",
       "Nhug giá rất mềm.                                                                        1\n",
       "Chất vải đẹp, giá cả phải chăng.                                                         1\n",
       "áo rất ok nhé , vải mịn , len cao cổ này phối form mùa đông thì quá chất m.ng nhé !      1\n",
       "Name: comment, Length: 26803, dtype: int64"
      ]
     },
     "execution_count": 11,
     "metadata": {},
     "output_type": "execute_result"
    }
   ],
   "source": [
    "df.comment.value_counts()"
   ]
  },
  {
   "cell_type": "code",
   "execution_count": 12,
   "metadata": {},
   "outputs": [
    {
     "data": {
      "text/plain": [
       "<Axes: >"
      ]
     },
     "execution_count": 12,
     "metadata": {},
     "output_type": "execute_result"
    },
    {
     "data": {
      "image/png": "[encoded data removed]",
      "text/plain": [
       "<Figure size 640x480 with 1 Axes>"
      ]
     },
     "metadata": {},
     "output_type": "display_data"
    }
   ],
   "source": [
    "import matplotlib\n",
    "\n",
    "df.label.value_counts()\n",
    "df.label.value_counts().plot(kind='bar')"
   ]
  },
  {
   "cell_type": "markdown",
   "metadata": {},
   "source": [
    "# Naive Bayes"
   ]
  },
  {
   "cell_type": "code",
   "execution_count": 13,
   "metadata": {},
   "outputs": [
    {
     "name": "stdout",
     "output_type": "stream",
     "text": [
      "Number of mislabeled points out of a total 9438 points : 7481\n",
      "[[0 0 0 ... 0 0 0]\n",
      " [0 0 0 ... 0 0 0]\n",
      " [0 0 0 ... 0 0 0]]\n",
      "['NEU' 'NEU' 'NEG']\n"
     ]
    }
   ],
   "source": [
    "from sklearn.feature_extraction.text import CountVectorizer\n",
    "import numpy as np\n",
    "from sklearn.model_selection import train_test_split\n",
    "from sklearn.naive_bayes import GaussianNB\n",
    "\n",
    "count_vec = CountVectorizer()\n",
    "bow = count_vec.fit_transform(df['comment'])\n",
    "bow = np.array(bow.todense())\n",
    "\n",
    "X, y = bow, df['label']\n",
    "X_train, X_test, y_train, y_test = train_test_split(X, y, test_size=0.3, random_state=0)\n",
    "\n",
    "gnb = GaussianNB()\n",
    "gnb.fit(X_train, y_train)\n",
    "\n",
    "y_pred = gnb.predict(X_test)\n",
    "\n",
    "print(\"Number of mislabeled points out of a total %d points : %d\"% (X_test.shape[0], (y_test != y_pred).sum()))\n",
    "\n",
    "# Test with new data\n",
    "test_df = pd.DataFrame(columns=['text'])\n",
    "test_df.loc[0] = ['san pham chan qua']\n",
    "test_df.loc[1] = ['noi chung cung duoc']\n",
    "test_df.loc[2] = ['san pham rat tot']\n",
    "\n",
    "test_data = count_vec.transform(test_df['text'])\n",
    "test_data = np.array(test_data.todense())\n",
    "\n",
    "print(test_data)\n",
    "\n",
    "print(gnb.predict(test_data))\n"
   ]
  },
  {
   "cell_type": "markdown",
   "metadata": {},
   "source": [
    "# Multinomial Naive Bayes"
   ]
  },
  {
   "cell_type": "code",
   "execution_count": 14,
   "metadata": {},
   "outputs": [
    {
     "name": "stdout",
     "output_type": "stream",
     "text": [
      "Number of mislabeled points out of a total 9438 points : 2571\n",
      "['NEG' 'NEU' 'POS']\n"
     ]
    }
   ],
   "source": [
    "from sklearn.feature_extraction.text import CountVectorizer\n",
    "import numpy as np\n",
    "import pandas as pd\n",
    "from sklearn.model_selection import train_test_split\n",
    "from sklearn.naive_bayes import MultinomialNB  # Import MultinomialNB\n",
    "\n",
    "count_vec = CountVectorizer()\n",
    "bow = count_vec.fit_transform(df['comment'])\n",
    "bow = np.array(bow.todense())\n",
    "\n",
    "X, y = bow, df['label']\n",
    "X_train, X_test, y_train, y_test = train_test_split(X, y, test_size=0.3, random_state=0)\n",
    "\n",
    "mnb = MultinomialNB()  \n",
    "mnb.fit(X_train, y_train)\n",
    "\n",
    "y_pred = mnb.predict(X_test)\n",
    "\n",
    "print(\"Number of mislabeled points out of a total %d points : %d\"% (X_test.shape[0], (y_test != y_pred).sum()))\n",
    "\n",
    "# Create a test data\n",
    "test_df = pd.DataFrame(columns=['text'])\n",
    "test_df.loc[0] = ['san pham chan qua']\n",
    "test_df.loc[1] = ['noi chung cung duoc']\n",
    "test_df.loc[2] = ['san pham rat tot']\n",
    "\n",
    "test_data = count_vec.transform(test_df['text'])\n",
    "test_data = np.array(test_data.todense())\n",
    "\n",
    "print(mnb.predict(test_data))"
   ]
  },
  {
   "cell_type": "markdown",
   "metadata": {},
   "source": [
    "# SVM"
   ]
  },
  {
   "cell_type": "code",
   "execution_count": 15,
   "metadata": {},
   "outputs": [
    {
     "name": "stdout",
     "output_type": "stream",
     "text": [
      "------------------\n",
      "3\n",
      "------------------\n",
      "['POS', 'NEG', 'NEU']\n",
      "------------------\n",
      "{'POS': 0, 'NEG': 1, 'NEU': 2}\n",
      "------------------\n",
      "{0: 'POS', 1: 'NEG', 2: 'NEU'}\n"
     ]
    }
   ],
   "source": [
    "from sklearn.pipeline import make_pipeline\n",
    "from sklearn.feature_extraction.text import TfidfVectorizer\n",
    "from sklearn.naive_bayes import MultinomialNB\n",
    "from sklearn.metrics import accuracy_score\n",
    "\n",
    "X, y = df['comment'], df['label']\n",
    "X_train, X_test, y_train, y_test = train_test_split(X, y, test_size=0.3, random_state=0)\n",
    "\n",
    "labels = list(y_train.unique())\n",
    "label2id = {label: i for i, label in enumerate(labels)}\n",
    "id2label = {i: label for i, label in enumerate(labels)}\n",
    "\n",
    "print('------------------')\n",
    "print(len(labels))\n",
    "print('------------------')\n",
    "print(labels)\n",
    "print('------------------')\n",
    "print(label2id)\n",
    "print('------------------')\n",
    "print(id2label)"
   ]
  },
  {
   "cell_type": "code",
   "execution_count": 16,
   "metadata": {},
   "outputs": [
    {
     "name": "stdout",
     "output_type": "stream",
     "text": [
      "#training size 22022\n",
      "#testing size 9438\n"
     ]
    }
   ],
   "source": [
    "train_target = [label2id[x] for x in y_train]\n",
    "test_target = [label2id[x] for x in y_test]\n",
    "\n",
    "print(\"#training size\", len(X_train))\n",
    "print(\"#testing size\", len(X_test))"
   ]
  },
  {
   "cell_type": "code",
   "execution_count": 17,
   "metadata": {},
   "outputs": [],
   "source": [
    "from sklearn import svm\n",
    "from sklearn.pipeline import Pipeline\n",
    "from sklearn.feature_extraction.text import CountVectorizer, TfidfTransformer\n",
    "ngram_range = (1,2)\n",
    "text_clf = Pipeline([\n",
    "    ('vect', CountVectorizer(ngram_range=ngram_range)),\n",
    "    ('tfidf', TfidfTransformer(use_idf=True)),\n",
    "    ('clf', svm.LinearSVC()),\n",
    "])"
   ]
  },
  {
   "cell_type": "code",
   "execution_count": 18,
   "metadata": {},
   "outputs": [
    {
     "name": "stdout",
     "output_type": "stream",
     "text": [
      "'san pham chan qua' => NEG\n",
      "'noi chung cung duoc' => POS\n",
      "'san pham rat tot' => POS\n"
     ]
    }
   ],
   "source": [
    "text_clf.fit(X_train, train_target)\n",
    "\n",
    "new_comments = ['san pham chan qua',\n",
    "            'noi chung cung duoc',\n",
    "            'san pham rat tot']\n",
    "\n",
    "predicted = text_clf.predict(new_comments)\n",
    "for _comment, label in zip(new_comments, predicted):\n",
    "    print('%r => %s' % (_comment, id2label[label]))"
   ]
  },
  {
   "cell_type": "code",
   "execution_count": 19,
   "metadata": {},
   "outputs": [
    {
     "data": {
      "text/plain": [
       "0.7759059122695486"
      ]
     },
     "execution_count": 19,
     "metadata": {},
     "output_type": "execute_result"
    }
   ],
   "source": [
    "# LinearSVC (1, 2) tfidf (5452, 32693)  ==> accurracy 0.9\n",
    "predicted = text_clf.predict(X_test)\n",
    "ncorrect = sum([y_pred == y for y_pred, y in zip (predicted, test_target)])\n",
    "accurracy = ncorrect / len(test_target)\n",
    "accurracy"
   ]
  },
  {
   "cell_type": "code",
   "execution_count": null,
   "metadata": {},
   "outputs": [],
   "source": []
  }
 ],
 "metadata": {
  "kernelspec": {
   "display_name": "Python 3",
   "language": "python",
   "name": "python3"
  },
  "language_info": {
   "codemirror_mode": {
    "name": "ipython",
    "version": 3
   },
   "file_extension": ".py",
   "mimetype": "text/x-python",
   "name": "python",
   "nbconvert_exporter": "python",
   "pygments_lexer": "ipython3",
   "version": "3.10.9"
  },
  "orig_nbformat": 4
 },
 "nbformat": 4,
 "nbformat_minor": 2
}
